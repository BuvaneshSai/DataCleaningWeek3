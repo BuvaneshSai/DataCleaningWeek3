{
  "nbformat": 4,
  "nbformat_minor": 0,
  "metadata": {
    "colab": {
      "provenance": []
    },
    "kernelspec": {
      "name": "python3",
      "display_name": "Python 3"
    },
    "language_info": {
      "name": "python"
    }
  },
  "cells": [
    {
      "cell_type": "markdown",
      "source": [
        "*Data Cleaning (Pandas):*\n",
        "\n",
        "This dataset helps you to increase the data-cleaning process using the pure Python pandas library.\n",
        "\n",
        "Columns :\n",
        "Age\n",
        "Salary\n",
        "Rating\n",
        "Location\n",
        "Established\n",
        "Easy Apply\n",
        "Here are some questions that you can follow to perform data cleaning and manipulation using the given dataset.\n",
        "1. Missing Values:\n",
        "Question: Are there any missing values in the dataset, and if so, how should they be handled for each indicator?\n",
        "\n",
        "2. Data Types:\n",
        "Question: What are the data types of each indicator, and do they align with their expected types (e.g., numerical, categorical)?\n",
        "\n",
        "3. Outliers:\n",
        "Question: Identify potential outliers in numerical indicators (e.g., Age, Salary, Rating). Should outliers be removed or adjusted?\n",
        "\n",
        "4. Salary Formatting:\n",
        "Question: Examine the format of the Salary column. Does it require any formatting or standardization for consistent analysis?\n",
        "\n",
        "5. Location Standardization:\n",
        "Question: Check the consistency of location entries. Do they need standardization, and how can this be achieved?\n",
        "\n",
        "6. Established Column:\n",
        "Question: Explore the Established column. Are there any inconsistencies or anomalies that need to be addressed?\n",
        "\n",
        "\n",
        "\n",
        "7. Easy Apply Indicator:\n",
        "Question: Analyze the Easy Apply column. Does it contain boolean values or need transformation for better analysis?\n",
        "\n",
        "8. Rating Range:\n",
        "Question: Investigate the range of values in the Rating column. Does it fall within expected rating scales, and how should outliers be treated?\n",
        "\n",
        "9. Age Distribution:\n",
        "Question: Check the distribution of values in the Age column. Are there any unusual entries, and how might they impact analysis?\n",
        "\n",
        "10. Handling Special Characters:\n",
        "Question: Examine all text-based columns (e.g., Location). Are there special characters or inconsistencies that need cleaning?\n",
        "\n",
        "11. Data Integrity:\n",
        "Question: Ensure data integrity by cross-referencing entries. For instance, does the Established column align with the Age column?\n",
        "\n",
        "12. Easy Apply Transformation:\n",
        "Question: If the Easy Apply column contains non-boolean values, how can it be transformed into a usable format?\n",
        "\n",
        "13. Location Accuracy:\n",
        "Question: Assess the accuracy of location entries. Are there misspelled or ambiguous locations that require correction?\n",
        "\n",
        "14. Handling Categorical Data:\n",
        "Question: For categorical indicators, consider encoding or transforming them into a format suitable for analysis.\n",
        "\n",
        "15. Consistent Rating Scale:\n",
        "Question: Ensure a consistent rating scale in the Rating column. Should it be normalized or adjusted for uniform analysis?\n",
        "\n",
        "These questions cover various aspects of data cleaning and manipulation, guiding you through the process to enhance the quality and reliability of the dataset. Feel free to explore and find hidden patterns in the data.\n",
        "\n"
      ],
      "metadata": {
        "id": "LPzf5KsF_0Jt"
      }
    },
    {
      "cell_type": "markdown",
      "source": [
        "***SOLUTION***\n"
      ],
      "metadata": {
        "id": "ZBJ4TyIEAH9P"
      }
    },
    {
      "cell_type": "code",
      "source": [
        "# Step 1: Load the dataset into a Pandas DataFrame\n",
        "import pandas as pd\n",
        "\n",
        "# Load the dataset\n",
        "dataset_path = \"/content/Data-cleaning-for-beginners-using-pandas.csv\"\n",
        "df = pd.read_csv(dataset_path)\n",
        "print(df)\n"
      ],
      "metadata": {
        "colab": {
          "base_uri": "https://localhost:8080/"
        },
        "id": "Fr2POpNzWbOs",
        "outputId": "6452f322-a1b1-4630-e9a4-a0daa154e962"
      },
      "execution_count": null,
      "outputs": [
        {
          "output_type": "stream",
          "name": "stdout",
          "text": [
            "    Index   Age      Salary  Rating       Location  Established Easy Apply\n",
            "0       0  44.0   $44k-$99k     5.4       India,In         1999       TRUE\n",
            "1       1  66.0   $55k-$66k     3.5    New York,Ny         2002       TRUE\n",
            "2       2   NaN   $77k-$89k    -1.0    New York,Ny           -1         -1\n",
            "3       3  64.0   $44k-$99k     4.4       India In         1988         -1\n",
            "4       4  25.0   $44k-$99k     6.4  Australia Aus         2002         -1\n",
            "5       5  44.0   $77k-$89k     1.4       India,In         1999       TRUE\n",
            "6       6  21.0   $44k-$99k     0.0    New York,Ny           -1         -1\n",
            "7       7  44.0   $44k-$99k    -1.0  Australia Aus           -1         -1\n",
            "8       8  35.0   $44k-$99k     5.4    New York,Ny           -1         -1\n",
            "9       9  22.0   $44k-$99k     7.7       India,In           -1       TRUE\n",
            "10     10  55.0   $10k-$49k     5.4       India,In         2008       TRUE\n",
            "11     11  44.0   $10k-$49k     6.7       India,In         2009         -1\n",
            "12     12   NaN   $44k-$99k     0.0       India,In         1999         -1\n",
            "13     13  25.0   $44k-$99k    -1.0  Australia Aus         2019       TRUE\n",
            "14     14  66.0   $44k-$99k     4.0  Australia Aus         2020       TRUE\n",
            "15     15  44.0  $88k-$101k     3.0  Australia Aus         1999         -1\n",
            "16     16  19.0   $19k-$40k     4.5       India,In         1984         -1\n",
            "17     17   NaN   $44k-$99k     5.3    New York,Ny         1943       TRUE\n",
            "18     18  35.0   $44k-$99k     6.7    New York,Ny         1954       TRUE\n",
            "19     19  32.0   $44k-$99k     3.3    New York,Ny         1955       TRUE\n",
            "20     20   NaN   $44k-$99k     5.7    New York,Ny         1944       TRUE\n",
            "21     21  35.0   $44k-$99k     5.0    New York,Ny         1946         -1\n",
            "22     22  19.0   $55k-$66k     7.8    New York,Ny         1988       TRUE\n",
            "23     23   NaN   $44k-$99k     2.4    New York,Ny         1999       TRUE\n",
            "24     24  13.0   $44k-$99k    -1.0    New York,Ny         1987         -1\n",
            "25     25  55.0   $44k-$99k     0.0  Australia Aus         1980       TRUE\n",
            "26     26   NaN   $55k-$66k     NaN       India,In         1934       TRUE\n",
            "27     27  52.0   $44k-$99k     5.4       India,In         1935         -1\n",
            "28     28   NaN   $39k-$88k     3.4  Australia Aus         1932         -1\n"
          ]
        }
      ]
    },
    {
      "cell_type": "code",
      "source": [
        "# Step 2: Identify Missing Values\n",
        "missing_values = df.isnull().sum()\n",
        "\n",
        "# Print the count of missing values in each column\n",
        "print(\"Missing values in each column:\")\n",
        "print(missing_values)\n"
      ],
      "metadata": {
        "colab": {
          "base_uri": "https://localhost:8080/"
        },
        "id": "TDUS3pvpWi79",
        "outputId": "f318406b-ee1c-4f54-a7f8-de07f2a9ae9c"
      },
      "execution_count": null,
      "outputs": [
        {
          "output_type": "stream",
          "name": "stdout",
          "text": [
            "Missing values in each column:\n",
            "Index          0\n",
            "Age            7\n",
            "Salary         0\n",
            "Rating         1\n",
            "Location       0\n",
            "Established    0\n",
            "Easy Apply     0\n",
            "dtype: int64\n"
          ]
        }
      ]
    },
    {
      "cell_type": "code",
      "source": [
        "# Step 3: Handle Missing Values\n",
        "# Example: Replace missing values with the mean in the 'Age' column\n",
        "mean_age = df['Age'].mean()\n",
        "df['Age'].fillna(mean_age, inplace=True)\n",
        "\n",
        "# Example: Replace missing values with the mean in the 'Rating' column\n",
        "mean_rating = df['Rating'].mean()\n",
        "df['Rating'].fillna(mean_rating, inplace=True)\n"
      ],
      "metadata": {
        "id": "B7DnufyfWjsK"
      },
      "execution_count": null,
      "outputs": []
    },
    {
      "cell_type": "code",
      "source": [
        "# Step 4: Confirm Handling\n",
        "# Check again for missing values after handling\n",
        "missing_values_after_handling = df.isnull().sum()\n",
        "\n",
        "# Print the count of missing values in each column\n",
        "print(\"Missing values in each column after handling:\")\n",
        "print(missing_values_after_handling)\n"
      ],
      "metadata": {
        "colab": {
          "base_uri": "https://localhost:8080/"
        },
        "id": "deB_gTTQWw22",
        "outputId": "27f5c96f-04e2-4a5c-aaf8-f5af5295dae0"
      },
      "execution_count": null,
      "outputs": [
        {
          "output_type": "stream",
          "name": "stdout",
          "text": [
            "Missing values in each column after handling:\n",
            "Index          0\n",
            "Age            0\n",
            "Salary         0\n",
            "Rating         0\n",
            "Location       0\n",
            "Established    0\n",
            "Easy Apply     0\n",
            "dtype: int64\n"
          ]
        }
      ]
    },
    {
      "cell_type": "code",
      "source": [
        "# Step 1: Check Data Types\n",
        "data_types = df.dtypes\n",
        "\n",
        "# Print the data types of each column\n",
        "print(\"Data types of each column:\")\n",
        "print(data_types)\n"
      ],
      "metadata": {
        "colab": {
          "base_uri": "https://localhost:8080/"
        },
        "id": "7apNl9oYW2qA",
        "outputId": "4c448819-a75f-4c27-d8eb-ba633730e8d9"
      },
      "execution_count": null,
      "outputs": [
        {
          "output_type": "stream",
          "name": "stdout",
          "text": [
            "Data types of each column:\n",
            "Index            int64\n",
            "Age            float64\n",
            "Salary          object\n",
            "Rating         float64\n",
            "Location        object\n",
            "Established      int64\n",
            "Easy Apply      object\n",
            "dtype: object\n"
          ]
        }
      ]
    },
    {
      "cell_type": "code",
      "source": [
        "# Step 1: Replace NaN values in 'Age' column with average age\n",
        "average_age = df['Age'].mean()\n",
        "df['Age'] = df['Age'].fillna(average_age).astype(int)\n"
      ],
      "metadata": {
        "id": "WsZG5KuBaP1w"
      },
      "execution_count": null,
      "outputs": []
    },
    {
      "cell_type": "code",
      "source": [
        "print(df)"
      ],
      "metadata": {
        "colab": {
          "base_uri": "https://localhost:8080/"
        },
        "id": "-hTvHgh7eNt3",
        "outputId": "964cdf24-81e6-4773-eed9-f449984b60f4"
      },
      "execution_count": null,
      "outputs": [
        {
          "output_type": "stream",
          "name": "stdout",
          "text": [
            "    Index  Age      Salary    Rating       Location  Established Easy Apply\n",
            "0       0   44   $44k-$99k  5.400000       India,In         1999       TRUE\n",
            "1       1   66   $55k-$66k  3.500000    New York,Ny         2002       TRUE\n",
            "2       2   39   $77k-$89k -1.000000    New York,Ny           -1         -1\n",
            "3       3   64   $44k-$99k  4.400000       India In         1988         -1\n",
            "4       4   25   $44k-$99k  6.400000  Australia Aus         2002         -1\n",
            "5       5   44   $77k-$89k  1.400000       India,In         1999       TRUE\n",
            "6       6   21   $44k-$99k  0.000000    New York,Ny           -1         -1\n",
            "7       7   44   $44k-$99k -1.000000  Australia Aus           -1         -1\n",
            "8       8   35   $44k-$99k  5.400000    New York,Ny           -1         -1\n",
            "9       9   22   $44k-$99k  7.700000       India,In           -1       TRUE\n",
            "10     10   55   $10k-$49k  5.400000       India,In         2008       TRUE\n",
            "11     11   44   $10k-$49k  6.700000       India,In         2009         -1\n",
            "12     12   39   $44k-$99k  0.000000       India,In         1999         -1\n",
            "13     13   25   $44k-$99k -1.000000  Australia Aus         2019       TRUE\n",
            "14     14   66   $44k-$99k  4.000000  Australia Aus         2020       TRUE\n",
            "15     15   44  $88k-$101k  3.000000  Australia Aus         1999         -1\n",
            "16     16   19   $19k-$40k  4.500000       India,In         1984         -1\n",
            "17     17   39   $44k-$99k  5.300000    New York,Ny         1943       TRUE\n",
            "18     18   35   $44k-$99k  6.700000    New York,Ny         1954       TRUE\n",
            "19     19   32   $44k-$99k  3.300000    New York,Ny         1955       TRUE\n",
            "20     20   39   $44k-$99k  5.700000    New York,Ny         1944       TRUE\n",
            "21     21   35   $44k-$99k  5.000000    New York,Ny         1946         -1\n",
            "22     22   19   $55k-$66k  7.800000    New York,Ny         1988       TRUE\n",
            "23     23   39   $44k-$99k  2.400000    New York,Ny         1999       TRUE\n",
            "24     24   13   $44k-$99k -1.000000    New York,Ny         1987         -1\n",
            "25     25   55   $44k-$99k  0.000000  Australia Aus         1980       TRUE\n",
            "26     26   39   $55k-$66k  3.528571       India,In         1934       TRUE\n",
            "27     27   52   $44k-$99k  5.400000       India,In         1935         -1\n",
            "28     28   39   $39k-$88k  3.400000  Australia Aus         1932         -1\n"
          ]
        }
      ]
    },
    {
      "cell_type": "code",
      "source": [
        "# Step 2: Clean 'Salary' column and convert to integer\n",
        "df['Salary'] = df['Salary'].astype(str).str.replace('$', '', regex=False).str.replace('k', '000', regex=False)\n",
        "df['Salary'] = df['Salary'].apply(lambda x: int(x.split('-')[0]))\n"
      ],
      "metadata": {
        "id": "htvSvYYwew7m"
      },
      "execution_count": null,
      "outputs": []
    },
    {
      "cell_type": "code",
      "source": [
        "# Step 3: Replace negative rating values with positive values\n",
        "df['Rating'] = df['Rating'].apply(lambda x: x if x > 0 else 1.0)\n"
      ],
      "metadata": {
        "id": "nD1WRAIRfK3_"
      },
      "execution_count": null,
      "outputs": []
    },
    {
      "cell_type": "code",
      "source": [
        "# Step 4: Clean 'Location' column to include only country names\n",
        "df['Location'] = df['Location'].str.split(',').str[-1].str.strip()\n"
      ],
      "metadata": {
        "id": "AdJpVdThfxpW"
      },
      "execution_count": null,
      "outputs": []
    },
    {
      "cell_type": "code",
      "source": [
        "print(df)"
      ],
      "metadata": {
        "colab": {
          "base_uri": "https://localhost:8080/"
        },
        "id": "9lEx1q_Df3O2",
        "outputId": "c8d905b6-20f1-47a5-a0ea-8124ea29a2a0"
      },
      "execution_count": null,
      "outputs": [
        {
          "output_type": "stream",
          "name": "stdout",
          "text": [
            "    Index  Age  Salary    Rating       Location  Established Easy Apply\n",
            "0       0   44   44000  5.400000             In         1999       TRUE\n",
            "1       1   66   55000  3.500000             Ny         2002       TRUE\n",
            "2       2   39   77000  1.000000             Ny           -1         -1\n",
            "3       3   64   44000  4.400000       India In         1988         -1\n",
            "4       4   25   44000  6.400000  Australia Aus         2002         -1\n",
            "5       5   44   77000  1.400000             In         1999       TRUE\n",
            "6       6   21   44000  1.000000             Ny           -1         -1\n",
            "7       7   44   44000  1.000000  Australia Aus           -1         -1\n",
            "8       8   35   44000  5.400000             Ny           -1         -1\n",
            "9       9   22   44000  7.700000             In           -1       TRUE\n",
            "10     10   55   10000  5.400000             In         2008       TRUE\n",
            "11     11   44   10000  6.700000             In         2009         -1\n",
            "12     12   39   44000  1.000000             In         1999         -1\n",
            "13     13   25   44000  1.000000  Australia Aus         2019       TRUE\n",
            "14     14   66   44000  4.000000  Australia Aus         2020       TRUE\n",
            "15     15   44   88000  3.000000  Australia Aus         1999         -1\n",
            "16     16   19   19000  4.500000             In         1984         -1\n",
            "17     17   39   44000  5.300000             Ny         1943       TRUE\n",
            "18     18   35   44000  6.700000             Ny         1954       TRUE\n",
            "19     19   32   44000  3.300000             Ny         1955       TRUE\n",
            "20     20   39   44000  5.700000             Ny         1944       TRUE\n",
            "21     21   35   44000  5.000000             Ny         1946         -1\n",
            "22     22   19   55000  7.800000             Ny         1988       TRUE\n",
            "23     23   39   44000  2.400000             Ny         1999       TRUE\n",
            "24     24   13   44000  1.000000             Ny         1987         -1\n",
            "25     25   55   44000  1.000000  Australia Aus         1980       TRUE\n",
            "26     26   39   55000  3.528571             In         1934       TRUE\n",
            "27     27   52   44000  5.400000             In         1935         -1\n",
            "28     28   39   39000  3.400000  Australia Aus         1932         -1\n"
          ]
        }
      ]
    },
    {
      "cell_type": "code",
      "source": [
        "# Replace 'In' with 'India', 'Australia Aus' with 'Australia', and 'Ny' with 'New York' in the 'Location' column\n",
        "df['Location'] = df['Location'].replace({'In': 'India', 'Australia Aus': 'Australia', 'Ny': 'New York'})\n"
      ],
      "metadata": {
        "id": "k3f2Sut1f6Pl"
      },
      "execution_count": null,
      "outputs": []
    },
    {
      "cell_type": "code",
      "source": [
        "print(df)"
      ],
      "metadata": {
        "colab": {
          "base_uri": "https://localhost:8080/"
        },
        "id": "pY0CAHyRgZ8u",
        "outputId": "cd5b0da5-5386-4ed3-d20f-e33c59ab6575"
      },
      "execution_count": null,
      "outputs": [
        {
          "output_type": "stream",
          "name": "stdout",
          "text": [
            "    Index  Age  Salary    Rating   Location  Established Easy Apply\n",
            "0       0   44   44000  5.400000      India         1999       TRUE\n",
            "1       1   66   55000  3.500000   New York         2002       TRUE\n",
            "2       2   39   77000  1.000000   New York           -1         -1\n",
            "3       3   64   44000  4.400000   India In         1988         -1\n",
            "4       4   25   44000  6.400000  Australia         2002         -1\n",
            "5       5   44   77000  1.400000      India         1999       TRUE\n",
            "6       6   21   44000  1.000000   New York           -1         -1\n",
            "7       7   44   44000  1.000000  Australia           -1         -1\n",
            "8       8   35   44000  5.400000   New York           -1         -1\n",
            "9       9   22   44000  7.700000      India           -1       TRUE\n",
            "10     10   55   10000  5.400000      India         2008       TRUE\n",
            "11     11   44   10000  6.700000      India         2009         -1\n",
            "12     12   39   44000  1.000000      India         1999         -1\n",
            "13     13   25   44000  1.000000  Australia         2019       TRUE\n",
            "14     14   66   44000  4.000000  Australia         2020       TRUE\n",
            "15     15   44   88000  3.000000  Australia         1999         -1\n",
            "16     16   19   19000  4.500000      India         1984         -1\n",
            "17     17   39   44000  5.300000   New York         1943       TRUE\n",
            "18     18   35   44000  6.700000   New York         1954       TRUE\n",
            "19     19   32   44000  3.300000   New York         1955       TRUE\n",
            "20     20   39   44000  5.700000   New York         1944       TRUE\n",
            "21     21   35   44000  5.000000   New York         1946         -1\n",
            "22     22   19   55000  7.800000   New York         1988       TRUE\n",
            "23     23   39   44000  2.400000   New York         1999       TRUE\n",
            "24     24   13   44000  1.000000   New York         1987         -1\n",
            "25     25   55   44000  1.000000  Australia         1980       TRUE\n",
            "26     26   39   55000  3.528571      India         1934       TRUE\n",
            "27     27   52   44000  5.400000      India         1935         -1\n",
            "28     28   39   39000  3.400000  Australia         1932         -1\n"
          ]
        }
      ]
    },
    {
      "cell_type": "code",
      "source": [
        "# Step 5: Replace '-1' values in the 'Established' column with 'UNKNOWN'\n",
        "df['Established'] = df['Established'].replace(-1, 'UNKNOWN')\n"
      ],
      "metadata": {
        "id": "luKCRlURgbxy"
      },
      "execution_count": null,
      "outputs": []
    },
    {
      "cell_type": "code",
      "source": [
        "print(df)\n"
      ],
      "metadata": {
        "colab": {
          "base_uri": "https://localhost:8080/"
        },
        "id": "xQUHBf28vWQq",
        "outputId": "a85488a0-65b6-4df1-891d-f58db74aaf4e"
      },
      "execution_count": null,
      "outputs": [
        {
          "output_type": "stream",
          "name": "stdout",
          "text": [
            "    Index  Age  Salary    Rating   Location Established Easy Apply\n",
            "0       0   44   44000  5.400000      India        1999       TRUE\n",
            "1       1   66   55000  3.500000   New York        2002       TRUE\n",
            "2       2   39   77000  1.000000   New York     UNKNOWN         -1\n",
            "3       3   64   44000  4.400000   India In        1988         -1\n",
            "4       4   25   44000  6.400000  Australia        2002         -1\n",
            "5       5   44   77000  1.400000      India        1999       TRUE\n",
            "6       6   21   44000  1.000000   New York     UNKNOWN         -1\n",
            "7       7   44   44000  1.000000  Australia     UNKNOWN         -1\n",
            "8       8   35   44000  5.400000   New York     UNKNOWN         -1\n",
            "9       9   22   44000  7.700000      India     UNKNOWN       TRUE\n",
            "10     10   55   10000  5.400000      India        2008       TRUE\n",
            "11     11   44   10000  6.700000      India        2009         -1\n",
            "12     12   39   44000  1.000000      India        1999         -1\n",
            "13     13   25   44000  1.000000  Australia        2019       TRUE\n",
            "14     14   66   44000  4.000000  Australia        2020       TRUE\n",
            "15     15   44   88000  3.000000  Australia        1999         -1\n",
            "16     16   19   19000  4.500000      India        1984         -1\n",
            "17     17   39   44000  5.300000   New York        1943       TRUE\n",
            "18     18   35   44000  6.700000   New York        1954       TRUE\n",
            "19     19   32   44000  3.300000   New York        1955       TRUE\n",
            "20     20   39   44000  5.700000   New York        1944       TRUE\n",
            "21     21   35   44000  5.000000   New York        1946         -1\n",
            "22     22   19   55000  7.800000   New York        1988       TRUE\n",
            "23     23   39   44000  2.400000   New York        1999       TRUE\n",
            "24     24   13   44000  1.000000   New York        1987         -1\n",
            "25     25   55   44000  1.000000  Australia        1980       TRUE\n",
            "26     26   39   55000  3.528571      India        1934       TRUE\n",
            "27     27   52   44000  5.400000      India        1935         -1\n",
            "28     28   39   39000  3.400000  Australia        1932         -1\n"
          ]
        }
      ]
    },
    {
      "cell_type": "code",
      "source": [
        "# Step 6: Clean 'Easy Apply' column to have consistent boolean values\n",
        "df['Easy Apply'] = df['Easy Apply'].astype(str).str.capitalize().map({'True': True, 'False': False, '-1': False}).fillna(False)\n"
      ],
      "metadata": {
        "id": "a-CNnC3cwEqW"
      },
      "execution_count": null,
      "outputs": []
    },
    {
      "cell_type": "code",
      "source": [
        "print(df)"
      ],
      "metadata": {
        "colab": {
          "base_uri": "https://localhost:8080/"
        },
        "id": "QqNNqr4RxZHW",
        "outputId": "ca3dc137-0eb3-47bc-98fa-be44e8670b5b"
      },
      "execution_count": null,
      "outputs": [
        {
          "output_type": "stream",
          "name": "stdout",
          "text": [
            "    Index  Age  Salary    Rating   Location Established  Easy Apply\n",
            "0       0   44   44000  5.400000      India        1999        True\n",
            "1       1   66   55000  3.500000   New York        2002        True\n",
            "2       2   39   77000  1.000000   New York     UNKNOWN       False\n",
            "3       3   64   44000  4.400000   India In        1988       False\n",
            "4       4   25   44000  6.400000  Australia        2002       False\n",
            "5       5   44   77000  1.400000      India        1999        True\n",
            "6       6   21   44000  1.000000   New York     UNKNOWN       False\n",
            "7       7   44   44000  1.000000  Australia     UNKNOWN       False\n",
            "8       8   35   44000  5.400000   New York     UNKNOWN       False\n",
            "9       9   22   44000  7.700000      India     UNKNOWN        True\n",
            "10     10   55   10000  5.400000      India        2008        True\n",
            "11     11   44   10000  6.700000      India        2009       False\n",
            "12     12   39   44000  1.000000      India        1999       False\n",
            "13     13   25   44000  1.000000  Australia        2019        True\n",
            "14     14   66   44000  4.000000  Australia        2020        True\n",
            "15     15   44   88000  3.000000  Australia        1999       False\n",
            "16     16   19   19000  4.500000      India        1984       False\n",
            "17     17   39   44000  5.300000   New York        1943        True\n",
            "18     18   35   44000  6.700000   New York        1954        True\n",
            "19     19   32   44000  3.300000   New York        1955        True\n",
            "20     20   39   44000  5.700000   New York        1944        True\n",
            "21     21   35   44000  5.000000   New York        1946       False\n",
            "22     22   19   55000  7.800000   New York        1988        True\n",
            "23     23   39   44000  2.400000   New York        1999        True\n",
            "24     24   13   44000  1.000000   New York        1987       False\n",
            "25     25   55   44000  1.000000  Australia        1980        True\n",
            "26     26   39   55000  3.528571      India        1934        True\n",
            "27     27   52   44000  5.400000      India        1935       False\n",
            "28     28   39   39000  3.400000  Australia        1932       False\n"
          ]
        }
      ]
    },
    {
      "cell_type": "code",
      "source": [
        "# Function to convert salary range string to tuple\n",
        "def salary_range_to_tuple(salary_range_str):\n",
        "    # Remove \"$\" and \"k\" from the string\n",
        "    salary_range_str = salary_range_str.replace('$', '').replace('k', '')\n",
        "    # Split the string by \"-\"\n",
        "    start_salary, end_salary = map(int, salary_range_str.split('-'))\n",
        "    return (start_salary * 1000, end_salary * 1000)\n",
        "\n",
        "# Dictionary containing previous salary ranges\n",
        "previous_salary_ranges = {\n",
        "    0: \"$44k-$99k\",\n",
        "    1: \"$55k-$66k\",\n",
        "    2: \"$77k-$89k\",\n",
        "    3: \"$44k-$99k\",\n",
        "    4: \"$44k-$99k\",\n",
        "    5: \"$77k-$89k\",\n",
        "    6: \"$44k-$99k\",\n",
        "    7: \"$44k-$99k\",\n",
        "    8: \"$44k-$99k\",\n",
        "    9: \"$44k-$99k\",\n",
        "    10: \"$10k-$49k\",\n",
        "    11: \"$10k-$49k\",\n",
        "    12: \"$44k-$99k\",\n",
        "    13: \"$44k-$99k\",\n",
        "    14: \"$44k-$99k\",\n",
        "    15: \"$88k-$101k\",\n",
        "    16: \"$19k-$40k\",\n",
        "    17: \"$44k-$99k\",\n",
        "    18: \"$44k-$99k\",\n",
        "    19: \"$44k-$99k\",\n",
        "    20: \"$44k-$99k\",\n",
        "    21: \"$44k-$99k\",\n",
        "    22: \"$55k-$66k\",\n",
        "    23: \"$44k-$99k\",\n",
        "    24: \"$44k-$99k\",\n",
        "    25: \"$44k-$99k\",\n",
        "    26: \"$55k-$66k\",\n",
        "    27: \"$44k-$99k\",\n",
        "    28: \"$39k-$88k\"\n",
        "}\n",
        "\n",
        "# Update Salary column in the current dataset\n",
        "df['Salary'] = df.index.map(lambda idx: salary_range_to_tuple(previous_salary_ranges[idx]))\n",
        "\n",
        "# Display the updated dataset\n",
        "print(df)\n"
      ],
      "metadata": {
        "colab": {
          "base_uri": "https://localhost:8080/"
        },
        "id": "X4ckG2dgxb-Q",
        "outputId": "bc5a0dbd-72fb-4085-93fd-3753b2cb84e1"
      },
      "execution_count": null,
      "outputs": [
        {
          "output_type": "stream",
          "name": "stdout",
          "text": [
            "    Index  Age           Salary    Rating   Location Established  Easy Apply\n",
            "0       0   44   (44000, 99000)  5.400000      India        1999        True\n",
            "1       1   66   (55000, 66000)  3.500000   New York        2002        True\n",
            "2       2   39   (77000, 89000)  1.000000   New York     UNKNOWN       False\n",
            "3       3   64   (44000, 99000)  4.400000   India In        1988       False\n",
            "4       4   25   (44000, 99000)  6.400000  Australia        2002       False\n",
            "5       5   44   (77000, 89000)  1.400000      India        1999        True\n",
            "6       6   21   (44000, 99000)  1.000000   New York     UNKNOWN       False\n",
            "7       7   44   (44000, 99000)  1.000000  Australia     UNKNOWN       False\n",
            "8       8   35   (44000, 99000)  5.400000   New York     UNKNOWN       False\n",
            "9       9   22   (44000, 99000)  7.700000      India     UNKNOWN        True\n",
            "10     10   55   (10000, 49000)  5.400000      India        2008        True\n",
            "11     11   44   (10000, 49000)  6.700000      India        2009       False\n",
            "12     12   39   (44000, 99000)  1.000000      India        1999       False\n",
            "13     13   25   (44000, 99000)  1.000000  Australia        2019        True\n",
            "14     14   66   (44000, 99000)  4.000000  Australia        2020        True\n",
            "15     15   44  (88000, 101000)  3.000000  Australia        1999       False\n",
            "16     16   19   (19000, 40000)  4.500000      India        1984       False\n",
            "17     17   39   (44000, 99000)  5.300000   New York        1943        True\n",
            "18     18   35   (44000, 99000)  6.700000   New York        1954        True\n",
            "19     19   32   (44000, 99000)  3.300000   New York        1955        True\n",
            "20     20   39   (44000, 99000)  5.700000   New York        1944        True\n",
            "21     21   35   (44000, 99000)  5.000000   New York        1946       False\n",
            "22     22   19   (55000, 66000)  7.800000   New York        1988        True\n",
            "23     23   39   (44000, 99000)  2.400000   New York        1999        True\n",
            "24     24   13   (44000, 99000)  1.000000   New York        1987       False\n",
            "25     25   55   (44000, 99000)  1.000000  Australia        1980        True\n",
            "26     26   39   (55000, 66000)  3.528571      India        1934        True\n",
            "27     27   52   (44000, 99000)  5.400000      India        1935       False\n",
            "28     28   39   (39000, 88000)  3.400000  Australia        1932       False\n"
          ]
        }
      ]
    },
    {
      "cell_type": "code",
      "source": [
        "# Update Salary column in the current dataset with formatted salary strings\n",
        "df['Salary'] = df['Salary'].str.replace('$', '', regex=False).str.replace('k', '000', regex=False).str.split('-').apply(lambda x: f\"{int(x[0])} - {int(x[1])}\")\n",
        "\n",
        "# Display the updated dataset\n",
        "print(df)\n"
      ],
      "metadata": {
        "colab": {
          "base_uri": "https://localhost:8080/"
        },
        "id": "Mq2FX8A27u3Q",
        "outputId": "92bcc117-1b0e-4938-8fac-70a1f85e665c"
      },
      "execution_count": null,
      "outputs": [
        {
          "output_type": "stream",
          "name": "stdout",
          "text": [
            "    Index  Age          Salary    Rating   Location Established  Easy Apply\n",
            "0       0   44   44000 - 99000  5.400000      India        1999        True\n",
            "1       1   66   55000 - 66000  3.500000   New York        2002        True\n",
            "2       2   39   77000 - 89000  1.000000   New York     UNKNOWN       False\n",
            "3       3   64   44000 - 99000  4.400000   India In        1988       False\n",
            "4       4   25   44000 - 99000  6.400000  Australia        2002       False\n",
            "5       5   44   77000 - 89000  1.400000      India        1999        True\n",
            "6       6   21   44000 - 99000  1.000000   New York     UNKNOWN       False\n",
            "7       7   44   44000 - 99000  1.000000  Australia     UNKNOWN       False\n",
            "8       8   35   44000 - 99000  5.400000   New York     UNKNOWN       False\n",
            "9       9   22   44000 - 99000  7.700000      India     UNKNOWN        True\n",
            "10     10   55   10000 - 49000  5.400000      India        2008        True\n",
            "11     11   44   10000 - 49000  6.700000      India        2009       False\n",
            "12     12   39   44000 - 99000  1.000000      India        1999       False\n",
            "13     13   25   44000 - 99000  1.000000  Australia        2019        True\n",
            "14     14   66   44000 - 99000  4.000000  Australia        2020        True\n",
            "15     15   44  88000 - 101000  3.000000  Australia        1999       False\n",
            "16     16   19   19000 - 40000  4.500000      India        1984       False\n",
            "17     17   39   44000 - 99000  5.300000   New York        1943        True\n",
            "18     18   35   44000 - 99000  6.700000   New York        1954        True\n",
            "19     19   32   44000 - 99000  3.300000   New York        1955        True\n",
            "20     20   39   44000 - 99000  5.700000   New York        1944        True\n",
            "21     21   35   44000 - 99000  5.000000   New York        1946       False\n",
            "22     22   19   55000 - 66000  7.800000   New York        1988        True\n",
            "23     23   39   44000 - 99000  2.400000   New York        1999        True\n",
            "24     24   13   44000 - 99000  1.000000   New York        1987       False\n",
            "25     25   55   44000 - 99000  1.000000  Australia        1980        True\n",
            "26     26   39   55000 - 66000  3.528571      India        1934        True\n",
            "27     27   52   44000 - 99000  5.400000      India        1935       False\n",
            "28     28   39   39000 - 88000  3.400000  Australia        1932       False\n"
          ]
        }
      ]
    },
    {
      "cell_type": "code",
      "source": [
        "# Round off the Rating column to one decimal point\n",
        "df['Rating'] = df['Rating'].round(1)\n",
        "\n",
        "# Display the updated dataset\n",
        "print(df)\n"
      ],
      "metadata": {
        "colab": {
          "base_uri": "https://localhost:8080/"
        },
        "id": "nz-Uf85M8AY2",
        "outputId": "84bd4f44-d912-497c-b0d2-405d706867c6"
      },
      "execution_count": null,
      "outputs": [
        {
          "output_type": "stream",
          "name": "stdout",
          "text": [
            "    Index  Age          Salary  Rating   Location Established  Easy Apply\n",
            "0       0   44   44000 - 99000     5.4      India        1999        True\n",
            "1       1   66   55000 - 66000     3.5   New York        2002        True\n",
            "2       2   39   77000 - 89000     1.0   New York     UNKNOWN       False\n",
            "3       3   64   44000 - 99000     4.4   India In        1988       False\n",
            "4       4   25   44000 - 99000     6.4  Australia        2002       False\n",
            "5       5   44   77000 - 89000     1.4      India        1999        True\n",
            "6       6   21   44000 - 99000     1.0   New York     UNKNOWN       False\n",
            "7       7   44   44000 - 99000     1.0  Australia     UNKNOWN       False\n",
            "8       8   35   44000 - 99000     5.4   New York     UNKNOWN       False\n",
            "9       9   22   44000 - 99000     7.7      India     UNKNOWN        True\n",
            "10     10   55   10000 - 49000     5.4      India        2008        True\n",
            "11     11   44   10000 - 49000     6.7      India        2009       False\n",
            "12     12   39   44000 - 99000     1.0      India        1999       False\n",
            "13     13   25   44000 - 99000     1.0  Australia        2019        True\n",
            "14     14   66   44000 - 99000     4.0  Australia        2020        True\n",
            "15     15   44  88000 - 101000     3.0  Australia        1999       False\n",
            "16     16   19   19000 - 40000     4.5      India        1984       False\n",
            "17     17   39   44000 - 99000     5.3   New York        1943        True\n",
            "18     18   35   44000 - 99000     6.7   New York        1954        True\n",
            "19     19   32   44000 - 99000     3.3   New York        1955        True\n",
            "20     20   39   44000 - 99000     5.7   New York        1944        True\n",
            "21     21   35   44000 - 99000     5.0   New York        1946       False\n",
            "22     22   19   55000 - 66000     7.8   New York        1988        True\n",
            "23     23   39   44000 - 99000     2.4   New York        1999        True\n",
            "24     24   13   44000 - 99000     1.0   New York        1987       False\n",
            "25     25   55   44000 - 99000     1.0  Australia        1980        True\n",
            "26     26   39   55000 - 66000     3.5      India        1934        True\n",
            "27     27   52   44000 - 99000     5.4      India        1935       False\n",
            "28     28   39   39000 - 88000     3.4  Australia        1932       False\n"
          ]
        }
      ]
    },
    {
      "cell_type": "code",
      "source": [
        "\n",
        "# Displaying the updated DataFrame\n",
        "print(df)\n"
      ],
      "metadata": {
        "colab": {
          "base_uri": "https://localhost:8080/"
        },
        "id": "0iQ0T3w2-lUT",
        "outputId": "e95ae26b-3988-4491-d1f9-932c84ee4ad3"
      },
      "execution_count": null,
      "outputs": [
        {
          "output_type": "stream",
          "name": "stdout",
          "text": [
            "    Index  Age  Rating   Location Established  Easy Apply Minimum Salary  \\\n",
            "0       0   44     5.4      India        1999        True          44000   \n",
            "1       1   66     3.5   New York        2002        True          55000   \n",
            "2       2   39     1.0   New York     UNKNOWN       False          77000   \n",
            "3       3   64     4.4   India In        1988       False          44000   \n",
            "4       4   25     6.4  Australia        2002       False          44000   \n",
            "5       5   44     1.4      India        1999        True          77000   \n",
            "6       6   21     1.0   New York     UNKNOWN       False          44000   \n",
            "7       7   44     1.0  Australia     UNKNOWN       False          44000   \n",
            "8       8   35     5.4   New York     UNKNOWN       False          44000   \n",
            "9       9   22     7.7      India     UNKNOWN        True          44000   \n",
            "10     10   55     5.4      India        2008        True          10000   \n",
            "11     11   44     6.7      India        2009       False          10000   \n",
            "12     12   39     1.0      India        1999       False          44000   \n",
            "13     13   25     1.0  Australia        2019        True          44000   \n",
            "14     14   66     4.0  Australia        2020        True          44000   \n",
            "15     15   44     3.0  Australia        1999       False          88000   \n",
            "16     16   19     4.5      India        1984       False          19000   \n",
            "17     17   39     5.3   New York        1943        True          44000   \n",
            "18     18   35     6.7   New York        1954        True          44000   \n",
            "19     19   32     3.3   New York        1955        True          44000   \n",
            "20     20   39     5.7   New York        1944        True          44000   \n",
            "21     21   35     5.0   New York        1946       False          44000   \n",
            "22     22   19     7.8   New York        1988        True          55000   \n",
            "23     23   39     2.4   New York        1999        True          44000   \n",
            "24     24   13     1.0   New York        1987       False          44000   \n",
            "25     25   55     1.0  Australia        1980        True          44000   \n",
            "26     26   39     3.5      India        1934        True          55000   \n",
            "27     27   52     5.4      India        1935       False          44000   \n",
            "28     28   39     3.4  Australia        1932       False          39000   \n",
            "\n",
            "   Maximum Salary  \n",
            "0           99000  \n",
            "1           66000  \n",
            "2           89000  \n",
            "3           99000  \n",
            "4           99000  \n",
            "5           89000  \n",
            "6           99000  \n",
            "7           99000  \n",
            "8           99000  \n",
            "9           99000  \n",
            "10          49000  \n",
            "11          49000  \n",
            "12          99000  \n",
            "13          99000  \n",
            "14          99000  \n",
            "15         101000  \n",
            "16          40000  \n",
            "17          99000  \n",
            "18          99000  \n",
            "19          99000  \n",
            "20          99000  \n",
            "21          99000  \n",
            "22          66000  \n",
            "23          99000  \n",
            "24          99000  \n",
            "25          99000  \n",
            "26          66000  \n",
            "27          99000  \n",
            "28          88000  \n"
          ]
        }
      ]
    },
    {
      "cell_type": "code",
      "source": [],
      "metadata": {
        "id": "WPkU4WjZ_IrU"
      },
      "execution_count": null,
      "outputs": []
    }
  ]
}